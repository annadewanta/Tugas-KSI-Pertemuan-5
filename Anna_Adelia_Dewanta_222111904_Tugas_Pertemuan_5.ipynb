{
  "nbformat": 4,
  "nbformat_minor": 0,
  "metadata": {
    "colab": {
      "provenance": []
    },
    "kernelspec": {
      "name": "python3",
      "display_name": "Python 3"
    },
    "language_info": {
      "name": "python"
    }
  },
  "cells": [
    {
      "cell_type": "markdown",
      "source": [
        "Nama: Anna Adelia Dewanta\n",
        "\n",
        "NIM: 222111904\n",
        "\n",
        "Kelas: 3SI2"
      ],
      "metadata": {
        "id": "F7BqkIT3aj9R"
      }
    },
    {
      "cell_type": "markdown",
      "source": [
        "# **KEAMANAN SISTEM INFORMASI**\n",
        "\n",
        "## **Cryptography**"
      ],
      "metadata": {
        "id": "hBvQsNKOZsxz"
      }
    },
    {
      "cell_type": "markdown",
      "source": [
        "### Transposition Ciphers"
      ],
      "metadata": {
        "id": "qkW6DWvdZ6eG"
      }
    },
    {
      "cell_type": "markdown",
      "source": [
        "Key berupa angka"
      ],
      "metadata": {
        "id": "orUiLYBn9_kf"
      }
    },
    {
      "cell_type": "code",
      "source": [
        "import math\n",
        "\n",
        "def main():\n",
        "    choice = input(\"Apakah Anda ingin melakukan Enkripsi (e) atau Dekripsi (d)?: \").lower()\n",
        "\n",
        "    if choice == 'e':\n",
        "        myMessage = input(\"Masukkan pesan yang akan dienkripsi: \")\n",
        "        myKey = int(input(\"Masukkan kunci: \"))\n",
        "\n",
        "        ciphertext = encryptMessage(myKey, myMessage)\n",
        "        print(\"Pesan terenkripsi:\", ciphertext)\n",
        "\n",
        "    elif choice == 'd':\n",
        "        myMessage = input(\"Masukkan pesan terenkripsi: \")\n",
        "        myKey = int(input(\"Masukkan kunci: \"))\n",
        "\n",
        "        plaintext = decryptMessage(myKey, myMessage)\n",
        "        print(\"Pesan terdekripsi:\", plaintext)\n",
        "\n",
        "    else:\n",
        "        print(\"Pilihan tidak valid.\")\n",
        "\n",
        "def encryptMessage(key, message):\n",
        "    # Membuat matriks untuk menyimpan karakter pesan\n",
        "    ciphertext = [''] * key\n",
        "\n",
        "    # Memasukkan karakter pesan ke dalam matriks berdasarkan aturan enkripsi\n",
        "    for col in range(key):\n",
        "        pointer = col\n",
        "        while pointer < len(message):\n",
        "            ciphertext[col] += message[pointer]\n",
        "            pointer += key\n",
        "\n",
        "    return ''.join(ciphertext)\n",
        "\n",
        "def decryptMessage(key, message):\n",
        "    # Menghitung jumlah baris yang dibutuhkan\n",
        "    numOfColumns = math.ceil(len(message) / key)\n",
        "    numOfRows = key\n",
        "    numOfShadedBoxes = (numOfColumns * numOfRows) - len(message)\n",
        "\n",
        "    # Membuat matriks untuk menyimpan karakter terdekripsi\n",
        "    plaintext = [''] * numOfColumns\n",
        "\n",
        "    # Pointer untuk memasukkan karakter terdekripsi ke dalam matriks\n",
        "    col = 0\n",
        "    row = 0\n",
        "    for symbol in message:\n",
        "        plaintext[col] += symbol\n",
        "        col += 1\n",
        "\n",
        "        # Jika sudah mencapai batas kolom atau berada di kotak yang tidak terisi, pindah ke kolom berikutnya\n",
        "        if (col == numOfColumns) or (col == numOfColumns - 1 and row >= numOfRows - numOfShadedBoxes):\n",
        "            col = 0\n",
        "            row += 1\n",
        "\n",
        "    return ''.join(plaintext)\n",
        "\n",
        "if __name__ == '__main__':\n",
        "    main()\n"
      ],
      "metadata": {
        "colab": {
          "base_uri": "https://localhost:8080/"
        },
        "id": "NgyvPFzmlUiO",
        "outputId": "0e9830c1-0baa-4cba-ca59-cb39a4603367"
      },
      "execution_count": 30,
      "outputs": [
        {
          "output_type": "stream",
          "name": "stdout",
          "text": [
            "Apakah Anda ingin melakukan Enkripsi (e) atau Dekripsi (d)?: d\n",
            "Masukkan pesan terenkripsi: AAaand nneDtalea iw\n",
            "Masukkan kunci: 5\n",
            "Pesan terdekripsi: Anna Adelia Dewanta\n"
          ]
        }
      ]
    },
    {
      "cell_type": "markdown",
      "source": [
        "Key berupa kata tanpa huruf berulang"
      ],
      "metadata": {
        "id": "U3VJZWyP-C79"
      }
    },
    {
      "cell_type": "code",
      "source": [
        "import math\n",
        "\n",
        "def main():\n",
        "    choice = input(\"Apakah Anda ingin melakukan Enkripsi (e) atau Dekripsi (d)?: \").lower()\n",
        "\n",
        "    if choice == 'e':\n",
        "        msg = input(\"Masukkan pesan yang akan dienkripsi: \")\n",
        "        key = input(\"Masukkan kunci: \")\n",
        "\n",
        "        if has_repeating_characters(key):\n",
        "            print(\"Kunci tidak boleh memiliki huruf yang sama.\")\n",
        "            return\n",
        "\n",
        "        ciphertext = encryptMessage(key, msg)\n",
        "        print(\"Pesan terenkripsi:\", ciphertext)\n",
        "\n",
        "    elif choice == 'd':\n",
        "        cipher = input(\"Masukkan pesan terenkripsi: \")\n",
        "        key = input(\"Masukkan kunci: \")\n",
        "\n",
        "        if has_repeating_characters(key):\n",
        "            print(\"Kunci tidak boleh memiliki huruf yang sama.\")\n",
        "            return\n",
        "\n",
        "        plaintext = decryptMessage(key, cipher)\n",
        "        print(\"Pesan terdekripsi:\", plaintext)\n",
        "\n",
        "    else:\n",
        "        print(\"Pilihan tidak valid.\")\n",
        "\n",
        "# Function to check if a string has repeating characters\n",
        "def has_repeating_characters(s):\n",
        "    return len(set(s)) != len(s)\n",
        "\n",
        "# Encryption\n",
        "def encryptMessage(key, msg):\n",
        "\tcipher = \"\"\n",
        "\n",
        "\t# track key indices\n",
        "\tk_indx = 0\n",
        "\n",
        "\tmsg_len = float(len(msg))\n",
        "\tmsg_lst = list(msg)\n",
        "\tkey_lst = sorted(list(key))\n",
        "\n",
        "\t# calculate column of the matrix\n",
        "\tcol = len(key)\n",
        "\n",
        "\t# calculate maximum row of the matrix\n",
        "\trow = int(math.ceil(msg_len / col))\n",
        "\n",
        "\t# add the padding character '_' in empty\n",
        "\t# the empty cell of the matix\n",
        "\tfill_null = int((row * col) - msg_len)\n",
        "\tmsg_lst.extend('_' * fill_null)\n",
        "\n",
        "\t# create Matrix and insert message and\n",
        "\t# padding characters row-wise\n",
        "\tmatrix = [msg_lst[i: i + col]\n",
        "\t\t\tfor i in range(0, len(msg_lst), col)]\n",
        "\n",
        "\t# read matrix column-wise using key\n",
        "\tfor _ in range(col):\n",
        "\t\tcurr_idx = key.index(key_lst[k_indx])\n",
        "\t\tcipher += ''.join([row[curr_idx]\n",
        "\t\t\t\t\t\tfor row in matrix])\n",
        "\t\tk_indx += 1\n",
        "\n",
        "\treturn cipher\n",
        "\n",
        "# Decryption\n",
        "def decryptMessage(key, cipher):\n",
        "\tmsg = \"\"\n",
        "\n",
        "\t# track key indices\n",
        "\tk_indx = 0\n",
        "\n",
        "\t# track msg indices\n",
        "\tmsg_indx = 0\n",
        "\tmsg_len = float(len(cipher))\n",
        "\tmsg_lst = list(cipher)\n",
        "\n",
        "\t# calculate column of the matrix\n",
        "\tcol = len(key)\n",
        "\n",
        "\t# calculate maximum row of the matrix\n",
        "\trow = int(math.ceil(msg_len / col))\n",
        "\n",
        "\t# convert key into list and sort\n",
        "\t# alphabetically so we can access\n",
        "\t# each character by its alphabetical position.\n",
        "\tkey_lst = sorted(list(key))\n",
        "\n",
        "\t# create an empty matrix to\n",
        "\t# store deciphered message\n",
        "\tdec_cipher = []\n",
        "\tfor _ in range(row):\n",
        "\t\tdec_cipher += [[None] * col]\n",
        "\n",
        "\t# Arrange the matrix column wise according\n",
        "\t# to permutation order by adding into new matrix\n",
        "\tfor _ in range(col):\n",
        "\t\tcurr_idx = key.index(key_lst[k_indx])\n",
        "\n",
        "\t\tfor j in range(row):\n",
        "\t\t\tdec_cipher[j][curr_idx] = msg_lst[msg_indx]\n",
        "\t\t\tmsg_indx += 1\n",
        "\t\tk_indx += 1\n",
        "\n",
        "\tnull_count = msg.count('_')\n",
        "\n",
        "\tif null_count > 0:\n",
        "\t\treturn msg[: -null_count]\n",
        "\n",
        "\treturn msg\n",
        "\n",
        "if __name__ == '__main__':\n",
        "    main()"
      ],
      "metadata": {
        "colab": {
          "base_uri": "https://localhost:8080/"
        },
        "id": "rTUPtzbK7KaF",
        "outputId": "a74c2454-07c9-48ae-9c34-f73819da8de8"
      },
      "execution_count": 34,
      "outputs": [
        {
          "output_type": "stream",
          "name": "stdout",
          "text": [
            "Apakah Anda ingin melakukan Enkripsi (e) atau Dekripsi (d)?: e\n",
            "Masukkan pesan yang akan dienkripsi: Anna Adelia \n",
            "Masukkan kunci: AZXC\n",
            "Pesan terenkripsi: A lae ndanAi\n"
          ]
        }
      ]
    },
    {
      "cell_type": "markdown",
      "source": [
        "### Substitution Ciphers"
      ],
      "metadata": {
        "id": "vv14baHyaeL3"
      }
    },
    {
      "cell_type": "code",
      "source": [
        "import string\n",
        "\n",
        "# A list containing all characters\n",
        "all_letters = string.ascii_letters\n",
        "\n",
        "# Encryption function\n",
        "def encryptMessage(key, text):\n",
        "    dict1 = {}\n",
        "    for i in range(len(all_letters)):\n",
        "        dict1[all_letters[i]] = all_letters[(i + key) % len(all_letters)]\n",
        "\n",
        "    cipher_text = []\n",
        "    for char in text:\n",
        "        if char in all_letters:\n",
        "            temp = dict1[char]\n",
        "            cipher_text.append(temp)\n",
        "        else:\n",
        "            temp = char\n",
        "            cipher_text.append(temp)\n",
        "\n",
        "    return ''.join(cipher_text)\n",
        "\n",
        "# Decryption function\n",
        "def decryptMessage(key, cipher_text):\n",
        "    dict2 = {}\n",
        "    for i in range(len(all_letters)):\n",
        "        dict2[all_letters[i]] = all_letters[(i - key) % len(all_letters)]\n",
        "\n",
        "    decrypt_text = []\n",
        "    for char in cipher_text:\n",
        "        if char in all_letters:\n",
        "            temp = dict2[char]\n",
        "            decrypt_text.append(temp)\n",
        "        else:\n",
        "            temp = char\n",
        "            decrypt_text.append(temp)\n",
        "\n",
        "    return ''.join(decrypt_text)\n",
        "\n",
        "def main():\n",
        "    choice = input(\"Apakah Anda ingin melakukan Enkripsi (e) atau Dekripsi (d)?: \").lower()\n",
        "\n",
        "    if choice == 'e':\n",
        "        myMessage = input(\"Masukkan pesan yang akan dienkripsi: \")\n",
        "        myKey = int(input(\"Masukkan kunci: \"))\n",
        "\n",
        "        ciphertext = encryptMessage(myKey, myMessage)\n",
        "        print(\"Pesan terenkripsi:\", ciphertext)\n",
        "\n",
        "    elif choice == 'd':\n",
        "        myMessage = input(\"Masukkan pesan terenkripsi: \")\n",
        "        myKey = int(input(\"Masukkan kunci: \"))\n",
        "\n",
        "        plaintext = decryptMessage(myKey, myMessage)\n",
        "        print(\"Pesan terdekripsi:\", plaintext)\n",
        "\n",
        "    else:\n",
        "        print(\"Pilihan tidak valid.\")\n",
        "\n",
        "if __name__ == '__main__':\n",
        "    main()\n"
      ],
      "metadata": {
        "colab": {
          "base_uri": "https://localhost:8080/"
        },
        "id": "qPAxYA8Xan4Z",
        "outputId": "e67ff8f9-1dc4-40b0-9d9c-20247615d689"
      },
      "execution_count": 36,
      "outputs": [
        {
          "output_type": "stream",
          "name": "stdout",
          "text": [
            "Apakah Anda ingin melakukan Enkripsi (e) atau Dekripsi (d)?: d\n",
            "Masukkan pesan terenkripsi: FGHIJKLMNO\n",
            "Masukkan kunci: 5\n",
            "Pesan terdekripsi: ABCDEFGHIJ\n"
          ]
        }
      ]
    }
  ]
}